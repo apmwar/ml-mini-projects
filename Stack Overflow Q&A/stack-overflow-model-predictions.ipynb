{
 "cells": [
  {
   "cell_type": "markdown",
   "metadata": {},
   "source": [
    "# ML Model predict the tags on Stack Overflow Questions & Answers"
   ]
  },
  {
   "cell_type": "markdown",
   "metadata": {},
   "source": [
    "### Import the necessary libraries"
   ]
  },
  {
   "cell_type": "code",
   "execution_count": 1,
   "metadata": {},
   "outputs": [
    {
     "name": "stderr",
     "output_type": "stream",
     "text": [
      "[nltk_data] Downloading package stopwords to\n",
      "[nltk_data]     C:\\Users\\Aruna\\AppData\\Roaming\\nltk_data...\n",
      "[nltk_data]   Package stopwords is already up-to-date!\n",
      "[nltk_data] Downloading package names to\n",
      "[nltk_data]     C:\\Users\\Aruna\\AppData\\Roaming\\nltk_data...\n",
      "[nltk_data]   Package names is already up-to-date!\n"
     ]
    }
   ],
   "source": [
    "import string\n",
    "import re\n",
    "import nltk\n",
    "import pandas as pd\n",
    "import csv\n",
    "\n",
    "from bs4 import BeautifulSoup\n",
    "\n",
    "nltk.download('stopwords')\n",
    "nltk.download('names')\n",
    "from nltk.corpus import stopwords\n",
    "from nltk.corpus import names\n",
    "from nltk import word_tokenize"
   ]
  },
  {
   "cell_type": "code",
   "execution_count": 2,
   "metadata": {},
   "outputs": [],
   "source": [
    "import matplotlib.pyplot as plt\n",
    "import seaborn as sns\n",
    "from wordcloud import WordCloud, STOPWORDS, ImageColorGenerator\n",
    "\n",
    "%matplotlib inline\n",
    "pd.set_option('display.max_colwidth', 150)"
   ]
  },
  {
   "cell_type": "markdown",
   "metadata": {},
   "source": [
    "### (A) Read the CSV file"
   ]
  },
  {
   "cell_type": "code",
   "execution_count": 3,
   "metadata": {
    "scrolled": false
   },
   "outputs": [
    {
     "data": {
      "text/html": [
       "<div>\n",
       "<style scoped>\n",
       "    .dataframe tbody tr th:only-of-type {\n",
       "        vertical-align: middle;\n",
       "    }\n",
       "\n",
       "    .dataframe tbody tr th {\n",
       "        vertical-align: top;\n",
       "    }\n",
       "\n",
       "    .dataframe thead th {\n",
       "        text-align: right;\n",
       "    }\n",
       "</style>\n",
       "<table border=\"1\" class=\"dataframe\">\n",
       "  <thead>\n",
       "    <tr style=\"text-align: right;\">\n",
       "      <th></th>\n",
       "      <th>post</th>\n",
       "      <th>tags</th>\n",
       "    </tr>\n",
       "  </thead>\n",
       "  <tbody>\n",
       "    <tr>\n",
       "      <th>0</th>\n",
       "      <td>what is causing this behavior  in our c# datetime type  &lt;pre&gt;&lt;code&gt;[test] public void sadness() {    var datetime = datetime.utcnow;    assert.tha...</td>\n",
       "      <td>c#</td>\n",
       "    </tr>\n",
       "    <tr>\n",
       "      <th>1</th>\n",
       "      <td>have dynamic html load as if it was in an iframe  i have an asp.net 4.0 site. users can save an entire html page into the backend database. what i...</td>\n",
       "      <td>asp.net</td>\n",
       "    </tr>\n",
       "    <tr>\n",
       "      <th>2</th>\n",
       "      <td>how to convert a float value in to min:sec  i m trying to convert my second in min:sec. my code is:    &lt;pre&gt;&lt;code&gt;- (ibaction)calcola:(id)sender  ...</td>\n",
       "      <td>objective-c</td>\n",
       "    </tr>\n",
       "    <tr>\n",
       "      <th>3</th>\n",
       "      <td>.net framework 4 redistributable  just wondering where we can get .net framework 4 beta redistributable. we would like to include it in our cd so ...</td>\n",
       "      <td>.net</td>\n",
       "    </tr>\n",
       "    <tr>\n",
       "      <th>4</th>\n",
       "      <td>trying to calculate and print the mean and its returning as a &lt;function at&gt; rather than a number  python  i have my program in python and i have u...</td>\n",
       "      <td>python</td>\n",
       "    </tr>\n",
       "    <tr>\n",
       "      <th>5</th>\n",
       "      <td>how to give alias name for my website  i have deployed my asp.net site in one of our server which is in ip format. so  i used to browse it like… &lt;...</td>\n",
       "      <td>asp.net</td>\n",
       "    </tr>\n",
       "    <tr>\n",
       "      <th>6</th>\n",
       "      <td>window.open() returns null in angularjs  it works in a simple call  but returns null inside $http. how can i create a window if i need the result ...</td>\n",
       "      <td>angularjs</td>\n",
       "    </tr>\n",
       "    <tr>\n",
       "      <th>7</th>\n",
       "      <td>identifying server timeout quickly in iphone  i am connecting my iphone application to jboss server.  when the jboss server is down  the iphone ti...</td>\n",
       "      <td>iphone</td>\n",
       "    </tr>\n",
       "    <tr>\n",
       "      <th>8</th>\n",
       "      <td>unknown method key  error in rails 2.3.8 unit testing  i was writing unit tests for my models for a while. after that i was tweaking around and ag...</td>\n",
       "      <td>ruby-on-rails</td>\n",
       "    </tr>\n",
       "    <tr>\n",
       "      <th>9</th>\n",
       "      <td>from the include  how to show and hide the content according to the requirement   i have a template in include. i am using that in 2 seperate inst...</td>\n",
       "      <td>angularjs</td>\n",
       "    </tr>\n",
       "  </tbody>\n",
       "</table>\n",
       "</div>"
      ],
      "text/plain": [
       "                                                                                                                                                    post  \\\n",
       "0  what is causing this behavior  in our c# datetime type  <pre><code>[test] public void sadness() {    var datetime = datetime.utcnow;    assert.tha...   \n",
       "1  have dynamic html load as if it was in an iframe  i have an asp.net 4.0 site. users can save an entire html page into the backend database. what i...   \n",
       "2  how to convert a float value in to min:sec  i m trying to convert my second in min:sec. my code is:    <pre><code>- (ibaction)calcola:(id)sender  ...   \n",
       "3  .net framework 4 redistributable  just wondering where we can get .net framework 4 beta redistributable. we would like to include it in our cd so ...   \n",
       "4  trying to calculate and print the mean and its returning as a <function at> rather than a number  python  i have my program in python and i have u...   \n",
       "5  how to give alias name for my website  i have deployed my asp.net site in one of our server which is in ip format. so  i used to browse it like… <...   \n",
       "6  window.open() returns null in angularjs  it works in a simple call  but returns null inside $http. how can i create a window if i need the result ...   \n",
       "7  identifying server timeout quickly in iphone  i am connecting my iphone application to jboss server.  when the jboss server is down  the iphone ti...   \n",
       "8  unknown method key  error in rails 2.3.8 unit testing  i was writing unit tests for my models for a while. after that i was tweaking around and ag...   \n",
       "9  from the include  how to show and hide the content according to the requirement   i have a template in include. i am using that in 2 seperate inst...   \n",
       "\n",
       "            tags  \n",
       "0             c#  \n",
       "1        asp.net  \n",
       "2    objective-c  \n",
       "3           .net  \n",
       "4         python  \n",
       "5        asp.net  \n",
       "6      angularjs  \n",
       "7         iphone  \n",
       "8  ruby-on-rails  \n",
       "9      angularjs  "
      ]
     },
     "execution_count": 3,
     "metadata": {},
     "output_type": "execute_result"
    }
   ],
   "source": [
    "df = pd.read_csv(\"stack-overflow-data.csv\")\n",
    "\n",
    "df.head(10)"
   ]
  },
  {
   "cell_type": "markdown",
   "metadata": {},
   "source": [
    "#### Check the spread of tags in the data"
   ]
  },
  {
   "cell_type": "code",
   "execution_count": 4,
   "metadata": {},
   "outputs": [
    {
     "name": "stdout",
     "output_type": "stream",
     "text": [
      "<class 'pandas.core.frame.DataFrame'>\n",
      "RangeIndex: 40000 entries, 0 to 39999\n",
      "Data columns (total 2 columns):\n",
      "post    40000 non-null object\n",
      "tags    40000 non-null object\n",
      "dtypes: object(2)\n",
      "memory usage: 625.1+ KB\n"
     ]
    }
   ],
   "source": [
    "df.info()"
   ]
  },
  {
   "cell_type": "code",
   "execution_count": 5,
   "metadata": {},
   "outputs": [
    {
     "data": {
      "text/plain": [
       "count     40000\n",
       "unique       20\n",
       "top          c#\n",
       "freq       2000\n",
       "Name: tags, dtype: object"
      ]
     },
     "execution_count": 5,
     "metadata": {},
     "output_type": "execute_result"
    }
   ],
   "source": [
    "df['tags'].describe()"
   ]
  },
  {
   "cell_type": "code",
   "execution_count": 6,
   "metadata": {},
   "outputs": [
    {
     "data": {
      "image/png": "[encoded data removed]",
      "text/plain": [
       "<Figure size 720x288 with 1 Axes>"
      ]
     },
     "metadata": {
      "needs_background": "light"
     },
     "output_type": "display_data"
    }
   ],
   "source": [
    "plt.figure(figsize=(10,4))\n",
    "df.tags.value_counts().plot(kind='bar');"
   ]
  },
  {
   "cell_type": "markdown",
   "metadata": {},
   "source": [
    "#### Check out one sample post"
   ]
  },
  {
   "cell_type": "code",
   "execution_count": 7,
   "metadata": {},
   "outputs": [
    {
     "data": {
      "text/plain": [
       "'what is causing this behavior  in our c# datetime type  <pre><code>[test] public void sadness() {    var datetime = datetime.utcnow;    assert.that(datetime  is.equalto(datetime.parse(datetime.tostring()))); } </code></pre>   failed :   <pre><code> expected: 2011-10-31 06:12:44.000  but was:  2011-10-31 06:12:44.350 </code></pre>   i wish to know what is happening behind the scenes in tostring() etc to cause this behavior.    edit after seeing jon s answer :   <pre><code>[test] public void newsadness() {     var datetime = datetime.utcnow;     assert.that(datetime  is.equalto(datetime.parse(datetime.tostring( o )))); } </code></pre>   result :   <pre><code>expected: 2011-10-31 12:03:04.161 but was:  2011-10-31 06:33:04.161 </code></pre>   same result with capital and small  o  . i m reading up the docs  but still unclear.'"
      ]
     },
     "execution_count": 7,
     "metadata": {},
     "output_type": "execute_result"
    }
   ],
   "source": [
    "df['post'][0]"
   ]
  },
  {
   "cell_type": "markdown",
   "metadata": {},
   "source": [
    "#### Top 30 words + frequency of each:"
   ]
  },
  {
   "cell_type": "code",
   "execution_count": 8,
   "metadata": {},
   "outputs": [
    {
     "data": {
      "text/plain": [
       "the              172157\n",
       "i                148938\n",
       "to               121253\n",
       "=                 92928\n",
       "a                 86281\n",
       "is                71645\n",
       "in                70612\n",
       "and               61656\n",
       "}                 61110\n",
       "{                 61033\n",
       "of                49233\n",
       "</code></pre>     46644\n",
       "it                43102\n",
       "this              39083\n",
       "for               35434\n",
       "that              33771\n",
       "if                31384\n",
       "have              31015\n",
       "my                27382\n",
       "but               25926\n",
       "on                24748\n",
       "with              24450\n",
       "how               24419\n",
       "not               24008\n",
       "from              23291\n",
       "can               22629\n",
       "&gt;              21865\n",
       "as                19551\n",
       "|                 19311\n",
       ");                18456\n",
       "dtype: int64"
      ]
     },
     "execution_count": 8,
     "metadata": {},
     "output_type": "execute_result"
    }
   ],
   "source": [
    "freq = pd.Series(' '.join(df['post']).split()).value_counts()[:30]\n",
    "freq"
   ]
  },
  {
   "cell_type": "code",
   "execution_count": 9,
   "metadata": {},
   "outputs": [
    {
     "name": "stdout",
     "output_type": "stream",
     "text": [
      "There are totally 10286120 words before cleaning.\n"
     ]
    }
   ],
   "source": [
    "print(\"There are totally\", df['post'].apply(lambda x: len(x.split(' '))).sum(), \"words before cleaning.\")"
   ]
  },
  {
   "cell_type": "markdown",
   "metadata": {},
   "source": [
    "### (B) Text Pre-processing"
   ]
  },
  {
   "cell_type": "code",
   "execution_count": 10,
   "metadata": {},
   "outputs": [],
   "source": [
    "REPLACE_BY_SPACE_RE = re.compile('[/(){}\\[\\]\\|@,:;]')\n",
    "\n",
    "BAD_SYMBOLS_RE = re.compile('[^0-9a-z #+_]')\n",
    "\n",
    "STOPWORDS = stopwords.words('english')\n",
    "\n",
    "my_stop_words = [\"hi\", \"hello\", \"regards\", \"thank\", \"thanks\", \"regard\", \"best\", \"wishes\", \"hey\", \"my\", \"do\", \"did\",\n",
    "                 \"does\", \"had\", \"have\", \"has\", \"could\", \"can\", \"as\", \"is\", \"shall\", \"should\", \"would\", \"will\", \"you\",\n",
    "                 \"me\", \"please\", \"know\", \"who\", \"we\", \"was\", \"were\", \"they\"]\n",
    "\n",
    "name = names.words()\n",
    "STOPWORDS.extend(my_stop_words)\n",
    "STOPWORDS.extend(name)"
   ]
  },
  {
   "cell_type": "code",
   "execution_count": 11,
   "metadata": {},
   "outputs": [],
   "source": [
    "def cleantext(text):\n",
    "    \n",
    "    # step 1 convert the text to lowercase\n",
    "    text = text.lower()\n",
    "    \n",
    "    # step 2 remove all the html tags\n",
    "    text = BeautifulSoup(text, \"lxml\").text\n",
    "    \n",
    "    # step 3 replace unwanted symbols by space\n",
    "    text = REPLACE_BY_SPACE_RE.sub(' ', text)\n",
    "    \n",
    "    # step 4 remove some symbols\n",
    "    text = BAD_SYMBOLS_RE.sub('', text)\n",
    "    \n",
    "    #step 5 remove the stop words\n",
    "    text = \" \".join(x for x in text.split() if x not in STOPWORDS and len(x) > 1)\n",
    "    \n",
    "    return text"
   ]
  },
  {
   "cell_type": "code",
   "execution_count": 12,
   "metadata": {},
   "outputs": [
    {
     "data": {
      "text/plain": [
       "0     causing behavior c# datetime type test public void sadness var datetime datetimeutcnow assertthat datetime isequalto datetimeparse datetimetostrin...\n",
       "1     dynamic html load iframe aspnet 40 site users save entire html page backend database want load dynamic content div existing page content area coup...\n",
       "2     convert float value min sec trying convert second min sec code ibaction calcola id sender float grandezzakb fieldgrandezza text floatvalue float v...\n",
       "3     net framework redistributable wondering get net framework beta redistributable like include cd distribute clients need install cd web necessary in...\n",
       "4     trying calculate print mean returning rather number python program python used external file numbers created list numbers stored need find mean st...\n",
       "5     give alias name website deployed aspnet site one server ip format used browse like http xxxxxxxx mysite want get ip give text achieve also cant ch...\n",
       "6     windowopen returns null angularjs works simple call returns null inside http create window need result http windowopen left0 top0 width300 height2...\n",
       "7     identifying server timeout quickly iphone connecting iphone application jboss server jboss server iphone timesout connecting takes lot time timeou...\n",
       "8     unknown method key error rails 238 unit testing writing unit tests models tweaking around continued writing unit tests earlier unit tests working ...\n",
       "9     include show hide content according requirement template include using seperate instance page conditionally show information within code var myapp...\n",
       "10    need interface c# possible duplicate want use interfaces need interface want use example interface idemo function prototype public void show first...\n",
       "11    install ipa jailbroken iphone air apple certificate install ipa deb files iphone device directly without user interference ie user use terminal th...\n",
       "12    dynamic textbox text aspnet trying separate presentation logic much one problem set textproperty dynamic value design file want like asp textbox i...\n",
       "13    rather bubblesorting namesthe program crashes clearly something wrong life figure int main int argc char argv int done0 int end0 int didswap0 char...\n",
       "14    site deployed drive uploaded files stored drive view file browser aspnet site deployed drive uploaded files stored drive need view files browser v...\n",
       "15                         connection net got systemdatadatarowdatarow systemdatadatarowbuilder inaccessible due protection level connecting sqlserver mean\n",
       "16                                                                                                                                subtract int subtract int\n",
       "17    ror console show syntax error want add data buyer user model console shows error syntaxerror irb syntax error unexpected tstring_beg expecting key...\n",
       "18    distance drop pins small assignment finding distance green drop pin red drop pinsthe green pin shows user location red pins shows friend locationb...\n",
       "19    sql query exclude record another table heres scenario tables named tblsalesorder tblacccountexecsummary tblaccountexecstatus joined sales_id tblsa...\n",
       "Name: post, dtype: object"
      ]
     },
     "execution_count": 12,
     "metadata": {},
     "output_type": "execute_result"
    }
   ],
   "source": [
    "df['post'] = df['post'].apply(cleantext)\n",
    "\n",
    "\n",
    "df['post'].head(20)"
   ]
  },
  {
   "cell_type": "markdown",
   "metadata": {},
   "source": [
    "#### Top 30 words + frequency of occurence:"
   ]
  },
  {
   "cell_type": "code",
   "execution_count": 13,
   "metadata": {},
   "outputs": [
    {
     "data": {
      "text/plain": [
       "class       27632\n",
       "div         23373\n",
       "int         21953\n",
       "code        20275\n",
       "function    18620\n",
       "id          18609\n",
       "new         18107\n",
       "string      16822\n",
       "name        15439\n",
       "value       15065\n",
       "using       15029\n",
       "like        14865\n",
       "return      14848\n",
       "want        14508\n",
       "get         14056\n",
       "file        13743\n",
       "error       12828\n",
       "public      11710\n",
       "text        11371\n",
       "data        11334\n",
       "table       11218\n",
       "void        10768\n",
       "type        10612\n",
       "one         10201\n",
       "use          9924\n",
       "user         9758\n",
       "android      9744\n",
       "select       9352\n",
       "var          9112\n",
       "null         8967\n",
       "dtype: int64"
      ]
     },
     "execution_count": 13,
     "metadata": {},
     "output_type": "execute_result"
    }
   ],
   "source": [
    "freq = pd.Series(' '.join(df['post']).split()).value_counts()[:30]\n",
    "freq"
   ]
  },
  {
   "cell_type": "code",
   "execution_count": 14,
   "metadata": {},
   "outputs": [
    {
     "name": "stdout",
     "output_type": "stream",
     "text": [
      "There are totally 3263665 words after cleaning.\n"
     ]
    }
   ],
   "source": [
    "print(\"There are totally\", df['post'].apply(lambda x: len(x.split(' '))).sum(), \"words after cleaning.\")"
   ]
  },
  {
   "cell_type": "markdown",
   "metadata": {},
   "source": [
    "### (C) Feature Engineering & Model Deployment"
   ]
  },
  {
   "cell_type": "code",
   "execution_count": 15,
   "metadata": {},
   "outputs": [],
   "source": [
    "from sklearn.model_selection import train_test_split\n",
    "\n",
    "X = df.post\n",
    "y = df.tags\n",
    "X_train, X_test, y_train, y_test = train_test_split(X, y, test_size=0.3, random_state = 42)"
   ]
  },
  {
   "cell_type": "markdown",
   "metadata": {},
   "source": [
    "## Naive Bayes Classifier for Multinomial Models"
   ]
  },
  {
   "cell_type": "code",
   "execution_count": 16,
   "metadata": {},
   "outputs": [
    {
     "data": {
      "text/plain": [
       "Pipeline(memory=None,\n",
       "     steps=[('vect', TfidfVectorizer(analyzer='word', binary=False, decode_error='strict',\n",
       "        dtype=<class 'numpy.float64'>, encoding='utf-8', input='content',\n",
       "        lowercase=True, max_df=1.0, max_features=None, min_df=1,\n",
       "        ngram_range=(1, 1), norm='l2', preprocessor=None, smooth_idf=True,\n",
       "...rue,\n",
       "        vocabulary=None)), ('clf', MultinomialNB(alpha=1.0, class_prior=None, fit_prior=True))])"
      ]
     },
     "execution_count": 16,
     "metadata": {},
     "output_type": "execute_result"
    }
   ],
   "source": [
    "from sklearn.naive_bayes import MultinomialNB\n",
    "from sklearn.pipeline import Pipeline\n",
    "from sklearn.feature_extraction.text import TfidfVectorizer\n",
    "\n",
    "nb = Pipeline([('vect', TfidfVectorizer()), ('clf', MultinomialNB())])\n",
    "\n",
    "nb.fit(X_train, y_train)"
   ]
  },
  {
   "cell_type": "code",
   "execution_count": 17,
   "metadata": {},
   "outputs": [],
   "source": [
    "from sklearn.metrics import classification_report\n",
    "from sklearn.metrics import accuracy_score\n",
    "\n",
    "predictions = nb.predict(X_test)"
   ]
  },
  {
   "cell_type": "code",
   "execution_count": 22,
   "metadata": {},
   "outputs": [
    {
     "name": "stdout",
     "output_type": "stream",
     "text": [
      "               precision    recall  f1-score   support\n",
      "\n",
      "         .net       0.74      0.66      0.70       613\n",
      "      android       0.95      0.87      0.91       620\n",
      "    angularjs       0.96      0.92      0.94       587\n",
      "      asp.net       0.81      0.77      0.79       586\n",
      "            c       0.80      0.86      0.83       599\n",
      "           c#       0.57      0.63      0.60       589\n",
      "          c++       0.83      0.76      0.79       594\n",
      "          css       0.82      0.90      0.86       610\n",
      "         html       0.70      0.71      0.71       617\n",
      "          ios       0.68      0.66      0.67       587\n",
      "       iphone       0.70      0.67      0.68       611\n",
      "         java       0.87      0.83      0.85       594\n",
      "   javascript       0.79      0.79      0.79       619\n",
      "       jquery       0.84      0.85      0.84       574\n",
      "        mysql       0.85      0.83      0.84       584\n",
      "  objective-c       0.69      0.70      0.69       578\n",
      "          php       0.84      0.85      0.85       591\n",
      "       python       0.89      0.92      0.91       608\n",
      "ruby-on-rails       0.96      0.91      0.93       638\n",
      "          sql       0.77      0.91      0.83       601\n",
      "\n",
      "    micro avg       0.80      0.80      0.80     12000\n",
      "    macro avg       0.80      0.80      0.80     12000\n",
      " weighted avg       0.80      0.80      0.80     12000\n",
      "\n",
      "accuracy: 0.80125\n"
     ]
    }
   ],
   "source": [
    "print(classification_report(y_test, predictions))\n",
    "print('accuracy:', accuracy_score(predictions, y_test))"
   ]
  },
  {
   "cell_type": "markdown",
   "metadata": {},
   "source": [
    "## LogisticRegression Model"
   ]
  },
  {
   "cell_type": "code",
   "execution_count": 20,
   "metadata": {},
   "outputs": [
    {
     "name": "stderr",
     "output_type": "stream",
     "text": [
      "C:\\Users\\Aruna\\Anaconda3\\lib\\site-packages\\sklearn\\linear_model\\logistic.py:433: FutureWarning: Default solver will be changed to 'lbfgs' in 0.22. Specify a solver to silence this warning.\n",
      "  FutureWarning)\n",
      "C:\\Users\\Aruna\\Anaconda3\\lib\\site-packages\\sklearn\\linear_model\\logistic.py:460: FutureWarning: Default multi_class will be changed to 'auto' in 0.22. Specify the multi_class option to silence this warning.\n",
      "  \"this warning.\", FutureWarning)\n"
     ]
    },
    {
     "data": {
      "text/plain": [
       "Pipeline(memory=None,\n",
       "     steps=[('vect', TfidfVectorizer(analyzer='word', binary=False, decode_error='strict',\n",
       "        dtype=<class 'numpy.float64'>, encoding='utf-8', input='content',\n",
       "        lowercase=True, max_df=1.0, max_features=None, min_df=1,\n",
       "        ngram_range=(1, 1), norm='l2', preprocessor=None, smooth_idf=True,\n",
       "...penalty='l2', random_state=None, solver='warn', tol=0.0001,\n",
       "          verbose=0, warm_start=False))])"
      ]
     },
     "execution_count": 20,
     "metadata": {},
     "output_type": "execute_result"
    }
   ],
   "source": [
    "from sklearn.linear_model import LogisticRegression\n",
    "\n",
    "logreg = Pipeline([('vect', TfidfVectorizer()), ('clf', LogisticRegression(n_jobs = 1))])\n",
    "\n",
    "logreg.fit(X_train, y_train)"
   ]
  },
  {
   "cell_type": "code",
   "execution_count": 21,
   "metadata": {},
   "outputs": [
    {
     "name": "stdout",
     "output_type": "stream",
     "text": [
      "               precision    recall  f1-score   support\n",
      "\n",
      "         .net       0.74      0.66      0.70       613\n",
      "      android       0.95      0.87      0.91       620\n",
      "    angularjs       0.96      0.92      0.94       587\n",
      "      asp.net       0.81      0.77      0.79       586\n",
      "            c       0.80      0.86      0.83       599\n",
      "           c#       0.57      0.63      0.60       589\n",
      "          c++       0.83      0.76      0.79       594\n",
      "          css       0.82      0.90      0.86       610\n",
      "         html       0.70      0.71      0.71       617\n",
      "          ios       0.68      0.66      0.67       587\n",
      "       iphone       0.70      0.67      0.68       611\n",
      "         java       0.87      0.83      0.85       594\n",
      "   javascript       0.79      0.79      0.79       619\n",
      "       jquery       0.84      0.85      0.84       574\n",
      "        mysql       0.85      0.83      0.84       584\n",
      "  objective-c       0.69      0.70      0.69       578\n",
      "          php       0.84      0.85      0.85       591\n",
      "       python       0.89      0.92      0.91       608\n",
      "ruby-on-rails       0.96      0.91      0.93       638\n",
      "          sql       0.77      0.91      0.83       601\n",
      "\n",
      "    micro avg       0.80      0.80      0.80     12000\n",
      "    macro avg       0.80      0.80      0.80     12000\n",
      " weighted avg       0.80      0.80      0.80     12000\n",
      "\n",
      "accuracy: 0.80125\n"
     ]
    }
   ],
   "source": [
    "predictions = logreg.predict(X_test)\n",
    "print(classification_report(y_test, predictions))\n",
    "print('accuracy:', accuracy_score(predictions, y_test))"
   ]
  },
  {
   "cell_type": "markdown",
   "metadata": {},
   "source": [
    "## Random Forest Model"
   ]
  },
  {
   "cell_type": "code",
   "execution_count": 26,
   "metadata": {},
   "outputs": [
    {
     "name": "stderr",
     "output_type": "stream",
     "text": [
      "C:\\Users\\Aruna\\Anaconda3\\lib\\site-packages\\sklearn\\ensemble\\forest.py:246: FutureWarning: The default value of n_estimators will change from 10 in version 0.20 to 100 in 0.22.\n",
      "  \"10 in version 0.20 to 100 in 0.22.\", FutureWarning)\n"
     ]
    },
    {
     "data": {
      "text/plain": [
       "Pipeline(memory=None,\n",
       "     steps=[('vect', TfidfVectorizer(analyzer='word', binary=False, decode_error='strict',\n",
       "        dtype=<class 'numpy.float64'>, encoding='utf-8', input='content',\n",
       "        lowercase=True, max_df=1.0, max_features=None, min_df=1,\n",
       "        ngram_range=(1, 1), norm='l2', preprocessor=None, smooth_idf=True,\n",
       "...obs=None,\n",
       "            oob_score=False, random_state=None, verbose=0,\n",
       "            warm_start=False))])"
      ]
     },
     "execution_count": 26,
     "metadata": {},
     "output_type": "execute_result"
    }
   ],
   "source": [
    "from sklearn.ensemble import RandomForestClassifier\n",
    "\n",
    "rf = Pipeline([('vect', TfidfVectorizer()), ('clf', RandomForestClassifier())])\n",
    "\n",
    "rf.fit(X_train, y_train)"
   ]
  },
  {
   "cell_type": "code",
   "execution_count": 27,
   "metadata": {},
   "outputs": [
    {
     "name": "stdout",
     "output_type": "stream",
     "text": [
      "               precision    recall  f1-score   support\n",
      "\n",
      "         .net       0.40      0.60      0.48       613\n",
      "      android       0.71      0.76      0.73       620\n",
      "    angularjs       0.80      0.84      0.82       587\n",
      "      asp.net       0.57      0.62      0.59       586\n",
      "            c       0.63      0.82      0.71       599\n",
      "           c#       0.42      0.36      0.39       589\n",
      "          c++       0.74      0.59      0.66       594\n",
      "          css       0.62      0.76      0.69       610\n",
      "         html       0.53      0.45      0.48       617\n",
      "          ios       0.51      0.45      0.48       587\n",
      "       iphone       0.53      0.49      0.51       611\n",
      "         java       0.73      0.71      0.72       594\n",
      "   javascript       0.66      0.54      0.60       619\n",
      "       jquery       0.75      0.75      0.75       574\n",
      "        mysql       0.74      0.74      0.74       584\n",
      "  objective-c       0.64      0.60      0.62       578\n",
      "          php       0.84      0.76      0.80       591\n",
      "       python       0.90      0.80      0.85       608\n",
      "ruby-on-rails       0.96      0.85      0.90       638\n",
      "          sql       0.70      0.73      0.72       601\n",
      "\n",
      "    micro avg       0.66      0.66      0.66     12000\n",
      "    macro avg       0.67      0.66      0.66     12000\n",
      " weighted avg       0.67      0.66      0.66     12000\n",
      "\n",
      "accuracy: 0.6609166666666667\n"
     ]
    }
   ],
   "source": [
    "predictions = rf.predict(X_test)\n",
    "print(classification_report(y_test, predictions))\n",
    "print('accuracy:', accuracy_score(predictions, y_test))"
   ]
  },
  {
   "cell_type": "markdown",
   "metadata": {},
   "source": [
    "## Linear SVC Model"
   ]
  },
  {
   "cell_type": "code",
   "execution_count": 29,
   "metadata": {},
   "outputs": [
    {
     "data": {
      "text/plain": [
       "Pipeline(memory=None,\n",
       "     steps=[('vect', TfidfVectorizer(analyzer='word', binary=False, decode_error='strict',\n",
       "        dtype=<class 'numpy.float64'>, encoding='utf-8', input='content',\n",
       "        lowercase=True, max_df=1.0, max_features=None, min_df=1,\n",
       "        ngram_range=(1, 1), norm='l2', preprocessor=None, smooth_idf=True,\n",
       "...ax_iter=1000,\n",
       "     multi_class='ovr', penalty='l2', random_state=None, tol=0.0001,\n",
       "     verbose=0))])"
      ]
     },
     "execution_count": 29,
     "metadata": {},
     "output_type": "execute_result"
    }
   ],
   "source": [
    "from sklearn.svm import LinearSVC\n",
    "\n",
    "svm = Pipeline([('vect', TfidfVectorizer()), ('clf', LinearSVC())])\n",
    "\n",
    "svm.fit(X_train, y_train)"
   ]
  },
  {
   "cell_type": "code",
   "execution_count": 30,
   "metadata": {},
   "outputs": [
    {
     "name": "stdout",
     "output_type": "stream",
     "text": [
      "               precision    recall  f1-score   support\n",
      "\n",
      "         .net       0.75      0.66      0.70       613\n",
      "      android       0.93      0.91      0.92       620\n",
      "    angularjs       0.97      0.95      0.96       587\n",
      "      asp.net       0.81      0.80      0.80       586\n",
      "            c       0.78      0.86      0.82       599\n",
      "           c#       0.64      0.61      0.63       589\n",
      "          c++       0.82      0.77      0.79       594\n",
      "          css       0.81      0.89      0.85       610\n",
      "         html       0.72      0.72      0.72       617\n",
      "          ios       0.67      0.63      0.65       587\n",
      "       iphone       0.68      0.66      0.67       611\n",
      "         java       0.84      0.85      0.85       594\n",
      "   javascript       0.78      0.80      0.79       619\n",
      "       jquery       0.86      0.87      0.86       574\n",
      "        mysql       0.84      0.83      0.83       584\n",
      "  objective-c       0.70      0.68      0.69       578\n",
      "          php       0.83      0.86      0.84       591\n",
      "       python       0.92      0.92      0.92       608\n",
      "ruby-on-rails       0.96      0.95      0.95       638\n",
      "          sql       0.78      0.89      0.83       601\n",
      "\n",
      "    micro avg       0.80      0.80      0.80     12000\n",
      "    macro avg       0.80      0.80      0.80     12000\n",
      " weighted avg       0.80      0.80      0.80     12000\n",
      "\n",
      "accuracy: 0.80475\n"
     ]
    }
   ],
   "source": [
    "predictions = svm.predict(X_test)\n",
    "print(classification_report(y_test, predictions))\n",
    "print('accuracy:', accuracy_score(predictions, y_test))"
   ]
  },
  {
   "cell_type": "markdown",
   "metadata": {},
   "source": [
    "## XGBoost Model"
   ]
  },
  {
   "cell_type": "code",
   "execution_count": null,
   "metadata": {},
   "outputs": [],
   "source": []
  }
 ],
 "metadata": {
  "kernelspec": {
   "display_name": "Python 3",
   "language": "python",
   "name": "python3"
  },
  "language_info": {
   "codemirror_mode": {
    "name": "ipython",
    "version": 3
   },
   "file_extension": ".py",
   "mimetype": "text/x-python",
   "name": "python",
   "nbconvert_exporter": "python",
   "pygments_lexer": "ipython3",
   "version": "3.7.3"
  }
 },
 "nbformat": 4,
 "nbformat_minor": 2
}
